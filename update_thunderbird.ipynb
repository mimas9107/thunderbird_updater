{
 "cells": [
  {
   "cell_type": "code",
   "execution_count": 1,
   "id": "14555906-0597-41a7-a332-369c1eb9a96d",
   "metadata": {},
   "outputs": [],
   "source": [
    "import os\n",
    "import sys\n",
    "import requests\n",
    "from bs4 import BeautifulSoup\n",
    "import lxml\n",
    "import wget\n"
   ]
  },
  {
   "cell_type": "code",
   "execution_count": null,
   "id": "37e184c8-3eb5-4ba1-aa67-7dbcfb504b21",
   "metadata": {},
   "outputs": [],
   "source": [
    "env_path:str = os.getenv('PATH')\n",
    "uid = os.getuid()\n"
   ]
  },
  {
   "cell_type": "code",
   "execution_count": null,
   "id": "0f6a7f85-c21d-48ad-9abb-b62556ef0afb",
   "metadata": {},
   "outputs": [],
   "source": [
    "buf = os.popen('ls').readlines()\n"
   ]
  },
  {
   "cell_type": "code",
   "execution_count": null,
   "id": "3e965e80-f4fb-4a6c-8987-5a6e94175fd5",
   "metadata": {},
   "outputs": [],
   "source": [
    "for i in buf:\n",
    "    print(i)\n",
    "    "
   ]
  },
  {
   "cell_type": "code",
   "execution_count": 2,
   "id": "c11010ce-8a0f-4a09-8298-980a94f9da17",
   "metadata": {},
   "outputs": [],
   "source": [
    "url = \"https://www.thunderbird.net/zh-TW/\"\n",
    "result = requests.get(url)"
   ]
  },
  {
   "cell_type": "code",
   "execution_count": 3,
   "id": "236feffb-e551-487c-8357-aa99f2d88650",
   "metadata": {},
   "outputs": [],
   "source": [
    "soup = BeautifulSoup(result.text,'lxml')"
   ]
  },
  {
   "cell_type": "code",
   "execution_count": 4,
   "id": "383adcfb-36a2-40ff-96e4-0e924174393e",
   "metadata": {},
   "outputs": [
    {
     "name": "stdout",
     "output_type": "stream",
     "text": [
      "https://download.mozilla.org/?product=thunderbird-115.5.1-SSL&os=linux64&lang=zh-TW\n",
      "https://download.mozilla.org/?product=thunderbird-115.5.1-SSL&os=linux64&lang=zh-TW\n",
      "https://download.mozilla.org/?product=thunderbird-115.5.1-SSL&os=linux64&lang=zh-TW\n",
      "https://download.mozilla.org/?product=thunderbird-115.5.1-SSL&os=linux64&lang=zh-TW\n",
      "https://download.mozilla.org/?product=thunderbird-115.5.1-SSL&os=linux64&lang=zh-TW\n",
      "https://download.mozilla.org/?product=thunderbird-115.5.1-SSL&os=linux64&lang=zh-TW\n",
      "https://download.mozilla.org/?product=thunderbird-115.5.1-SSL&os=linux64&lang=zh-TW\n",
      "https://download.mozilla.org/?product=thunderbird-115.5.1-SSL&os=linux64&lang=zh-TW\n",
      "https://download.mozilla.org/?product=thunderbird-115.5.1-SSL&os=linux64&lang=zh-TW\n",
      "{'https://download.mozilla.org/?product=thunderbird-115.5.1-SSL&os=linux64&lang=zh-TW'}\n",
      "https://download.mozilla.org/?product=thunderbird-115.5.1-SSL&os=linux64&lang=zh-TW"
     ]
    }
   ],
   "source": [
    "download_links = set()\n",
    "hypertag = soup.select('a.matomo-track-download')\n",
    "for e in hypertag:\n",
    "    # print(\"linux64\" in e['href'])\n",
    "    if \"os=linux64\" in e['href'] :\n",
    "        print(e['href'])\n",
    "        download_links.add(e['href'])\n",
    "print(download_links)\n",
    "if len(download_links) == 1: \n",
    "    for i in download_links:\n",
    "        print(i,end='')\n",
    "    # ret = os.popen('wget ' + i)\n",
    "    # print(ret)\n",
    "    target_link = i[i.find('thunderbird-'):].replace('SSL&os=','').replace('&lang=','-')+'.tar.bz2'\n",
    "print(target_link)\n",
    "else:\n",
    "    print('There are multiple download links...\\n Please check!\\n')\n"
   ]
  },
  {
   "cell_type": "code",
   "execution_count": 18,
   "id": "9fed2537-d0e3-4a1b-b603-853e162fc2e8",
   "metadata": {},
   "outputs": [
    {
     "name": "stdout",
     "output_type": "stream",
     "text": [
      "thunderbird-115.5.1-linux64-zh-TW.tar.bz2\n"
     ]
    }
   ],
   "source": []
  },
  {
   "cell_type": "code",
   "execution_count": null,
   "id": "825d3523-e414-4d60-a9c5-794a007772b9",
   "metadata": {},
   "outputs": [],
   "source": [
    "# wget.download(i)"
   ]
  },
  {
   "cell_type": "code",
   "execution_count": null,
   "id": "a6143794-4831-4c04-be59-fd89e214f988",
   "metadata": {},
   "outputs": [],
   "source": []
  },
  {
   "cell_type": "code",
   "execution_count": null,
   "id": "b4460bd9-3910-4801-bf9e-7a425203cbcc",
   "metadata": {},
   "outputs": [],
   "source": []
  },
  {
   "cell_type": "code",
   "execution_count": null,
   "id": "7038e06f-2ecb-4a0e-8515-976d438de524",
   "metadata": {},
   "outputs": [],
   "source": []
  }
 ],
 "metadata": {
  "kernelspec": {
   "display_name": "Python 3 (ipykernel)",
   "language": "python",
   "name": "python3"
  },
  "language_info": {
   "codemirror_mode": {
    "name": "ipython",
    "version": 3
   },
   "file_extension": ".py",
   "mimetype": "text/x-python",
   "name": "python",
   "nbconvert_exporter": "python",
   "pygments_lexer": "ipython3",
   "version": "3.11.2"
  }
 },
 "nbformat": 4,
 "nbformat_minor": 5
}
